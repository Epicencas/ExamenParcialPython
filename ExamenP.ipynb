{
  "cells": [
    {
      "cell_type": "markdown",
      "metadata": {
        "id": "view-in-github",
        "colab_type": "text"
      },
      "source": [
        "<a href=\"https://colab.research.google.com/github/Epicencas/ExamenParcialPython/blob/main/ExamenP.ipynb\" target=\"_parent\"><img src=\"https://colab.research.google.com/assets/colab-badge.svg\" alt=\"Open In Colab\"/></a>"
      ]
    },
    {
      "cell_type": "markdown",
      "source": [
        "#**Examen Parcial**\n",
        "\n",
        "##Sección Práctica\n",
        "\n",
        "Desarrolle en Python un programa el cual genere un código alfa numérico de 7 letras mayusculas y 7 números enteros, estos deben ser aleatorios, el código debe ser intercalado empezando por letras.\n",
        "\n",
        "Su programa debe ejecutarse siempre y esperar la tecla enter para crear un código nuevo, el programa solo debe detenerse cuando el usuario ingrese la palabra exit en mayusculas o minúsculas o combinado.\n",
        "\n",
        "Ademas de esto su programa debe separar todos los códigos que se generen en validos o no validos, un código se considera valido si la suma de los números que lo conforman es mayor a 30 y no es valido end caso contrario.\n",
        "\n",
        "Si un código es valido, este debe almacenarse en un diccionario el cual contenga la suma de los números enteros como llave y el código como valor, note que en una ejecución se pueden crear varios códigos.\n",
        "\n",
        "Por otro lado si el código no es valido, este deberá almacenarse en una lista.\n",
        "Al momento de que el usuario ingrese exit, el programa deberá desplegar el contenido del diccionario de códigos validos y la lista de códigos no válidos."
      ],
      "metadata": {
        "id": "bp52ea8cRt8X"
      }
    },
    {
      "cell_type": "code",
      "source": [
        "#El siguiente programa contiene un procedimiento para generar códigos de forma aleatoria\n",
        "\n",
        "#Se inicia pidiendo al usuario presionar Enter\n",
        "#Se importan dos librerias, random para generar números aleatorios y os para poder terminar el progrma.\n",
        "\n",
        "inp = input(\"Presione Enter para generar nuevo código o ingrese exit para salir...\")\n",
        "import random\n",
        "import os\n",
        "\n",
        "def genran(inp): \n",
        "\n",
        "  #Se declaran las variables a utilizar.\n",
        "  arrLetras = []\n",
        "  strLetras = 'ABCDEFGHIJKLMNOPQRSTUVWXYZ'\n",
        "  arrLetras.extend(strLetras)\n",
        "  lista = []\n",
        "  lista2 = []\n",
        "  diccionario ={}\n",
        "    \n",
        "  #Se utiliza un ciclo while para que se ejecute siempre a menos que se ingrese \"exit\"\n",
        "  while(inp.lower()!= \"exit\"):\n",
        "    strSalida = ''\n",
        "  #Se utiliza un ciclo for para generar el codigo iniciando con una letra y luego un número, 7 de cada uno\n",
        "    for i in range(0, 7, 1):\n",
        "      letras = random.randint(0, len(arrLetras) - 1)\n",
        "      numeros = random.randint(0, 9)\n",
        "      strSalida = strSalida + arrLetras[letras] + str(numeros)\n",
        "  #Los números generados aleatoriamente se añaden a una lista para luego sumar el contenido de la lista\n",
        "      lista.append(numeros)\n",
        "    total = sum(lista)\n",
        "  #El ciclo if comprobará si el código es válido o no, si lo es se añade a un diccionario, la llave será el total\n",
        "    if(total > 30):\n",
        "      diccionario[total] = strSalida   \n",
        "  #Si el código no es válido se va a una lista\n",
        "    else:\n",
        "      lista2.append(strSalida)\n",
        "  #Se reinicia la lista para que no adicione su valor al siguiente ciclo, vuele a pedir al usuario una entrada\n",
        "    lista =[]\n",
        "    inp = input(\"Presione Enter para generar nuevo código o ingrese exit para salir...\")\n",
        "  #Si ingresa exit el programa finaliza\n",
        "  os.system(\"pause\")\n",
        "\n",
        "  print(f\"Los códigos válidos son: {diccionario}\")\n",
        "  print(f\"Los códigos no válidos son: {lista2}\")\n",
        "\n",
        "genran(inp)"
      ],
      "metadata": {
        "colab": {
          "base_uri": "https://localhost:8080/"
        },
        "id": "RtyW5YRxODup",
        "outputId": "2c85ab70-91eb-49a7-f199-f4beb915c730"
      },
      "execution_count": null,
      "outputs": [
        {
          "output_type": "stream",
          "name": "stdout",
          "text": [
            "Presione Enter para generar nuevo código o ingrese exit para salir...\n",
            "Presione Enter para generar nuevo código o ingrese exit para salir...\n",
            "Presione Enter para generar nuevo código o ingrese exit para salir...\n",
            "Presione Enter para generar nuevo código o ingrese exit para salir...\n",
            "Presione Enter para generar nuevo código o ingrese exit para salir...\n",
            "Presione Enter para generar nuevo código o ingrese exit para salir...\n",
            "Presione Enter para generar nuevo código o ingrese exit para salir...\n",
            "Presione Enter para generar nuevo código o ingrese exit para salir...\n",
            "Presione Enter para generar nuevo código o ingrese exit para salir...exit\n",
            "Los códigos válidos son: {43: 'W4K9B1I7I7O9Z6', 37: 'B9F8Z8U0T4E6B2', 33: 'B1F9P6Y1M9R1I6', 45: 'C4B6B7T9W8T9W2', 31: 'V8D4J5E7F6W0F1'}\n",
            "Los códigos no válidos son: ['Y4Z8W0R2Y4H5O2', 'P0Z8T3V1S1L4A8', 'K9K6L6B1U0E2U0']\n"
          ]
        }
      ]
    }
  ],
  "metadata": {
    "colab": {
      "collapsed_sections": [],
      "name": "ExamenP.ipynb",
      "provenance": [],
      "authorship_tag": "ABX9TyMjlRUn9FpzuLmXVcwOvA9Z",
      "include_colab_link": true
    },
    "kernelspec": {
      "display_name": "Python 3",
      "name": "python3"
    },
    "language_info": {
      "name": "python"
    }
  },
  "nbformat": 4,
  "nbformat_minor": 0
}