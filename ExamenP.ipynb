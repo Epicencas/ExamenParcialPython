{
  "cells": [
    {
      "cell_type": "code",
      "execution_count": null,
      "metadata": {
        "colab": {
          "base_uri": "https://localhost:8080/",
          "height": 693
        },
        "id": "FZPXI-NbJtuy",
        "outputId": "d5bf8722-be1d-4d27-9840-e85f5b3d543f"
      },
      "outputs": [
        {
          "output_type": "stream",
          "name": "stdout",
          "text": [
            "Presione enter para generar nuevo código...\n",
            "28\n",
            "P0U5T1M5C0C9W8\n",
            "Presione enter para generar nuevo código...\n",
            "36\n",
            "E0J7O2F3U8Z7O9\n",
            "Presione enter para generar nuevo código...\n",
            "16\n",
            "Y6D2N1Z4P1L1B1\n"
          ]
        },
        {
          "output_type": "error",
          "ename": "KeyboardInterrupt",
          "evalue": "ignored",
          "traceback": [
            "\u001b[0;31m---------------------------------------------------------------------------\u001b[0m",
            "\u001b[0;31mKeyboardInterrupt\u001b[0m                         Traceback (most recent call last)",
            "\u001b[0;32m/usr/local/lib/python3.7/dist-packages/ipykernel/kernelbase.py\u001b[0m in \u001b[0;36m_input_request\u001b[0;34m(self, prompt, ident, parent, password)\u001b[0m\n\u001b[1;32m    728\u001b[0m             \u001b[0;32mtry\u001b[0m\u001b[0;34m:\u001b[0m\u001b[0;34m\u001b[0m\u001b[0;34m\u001b[0m\u001b[0m\n\u001b[0;32m--> 729\u001b[0;31m                 \u001b[0mident\u001b[0m\u001b[0;34m,\u001b[0m \u001b[0mreply\u001b[0m \u001b[0;34m=\u001b[0m \u001b[0mself\u001b[0m\u001b[0;34m.\u001b[0m\u001b[0msession\u001b[0m\u001b[0;34m.\u001b[0m\u001b[0mrecv\u001b[0m\u001b[0;34m(\u001b[0m\u001b[0mself\u001b[0m\u001b[0;34m.\u001b[0m\u001b[0mstdin_socket\u001b[0m\u001b[0;34m,\u001b[0m \u001b[0;36m0\u001b[0m\u001b[0;34m)\u001b[0m\u001b[0;34m\u001b[0m\u001b[0;34m\u001b[0m\u001b[0m\n\u001b[0m\u001b[1;32m    730\u001b[0m             \u001b[0;32mexcept\u001b[0m \u001b[0mException\u001b[0m\u001b[0;34m:\u001b[0m\u001b[0;34m\u001b[0m\u001b[0;34m\u001b[0m\u001b[0m\n",
            "\u001b[0;32m/usr/local/lib/python3.7/dist-packages/jupyter_client/session.py\u001b[0m in \u001b[0;36mrecv\u001b[0;34m(self, socket, mode, content, copy)\u001b[0m\n\u001b[1;32m    802\u001b[0m         \u001b[0;32mtry\u001b[0m\u001b[0;34m:\u001b[0m\u001b[0;34m\u001b[0m\u001b[0;34m\u001b[0m\u001b[0m\n\u001b[0;32m--> 803\u001b[0;31m             \u001b[0mmsg_list\u001b[0m \u001b[0;34m=\u001b[0m \u001b[0msocket\u001b[0m\u001b[0;34m.\u001b[0m\u001b[0mrecv_multipart\u001b[0m\u001b[0;34m(\u001b[0m\u001b[0mmode\u001b[0m\u001b[0;34m,\u001b[0m \u001b[0mcopy\u001b[0m\u001b[0;34m=\u001b[0m\u001b[0mcopy\u001b[0m\u001b[0;34m)\u001b[0m\u001b[0;34m\u001b[0m\u001b[0;34m\u001b[0m\u001b[0m\n\u001b[0m\u001b[1;32m    804\u001b[0m         \u001b[0;32mexcept\u001b[0m \u001b[0mzmq\u001b[0m\u001b[0;34m.\u001b[0m\u001b[0mZMQError\u001b[0m \u001b[0;32mas\u001b[0m \u001b[0me\u001b[0m\u001b[0;34m:\u001b[0m\u001b[0;34m\u001b[0m\u001b[0;34m\u001b[0m\u001b[0m\n",
            "\u001b[0;32m/usr/local/lib/python3.7/dist-packages/zmq/sugar/socket.py\u001b[0m in \u001b[0;36mrecv_multipart\u001b[0;34m(self, flags, copy, track)\u001b[0m\n\u001b[1;32m    624\u001b[0m         \"\"\"\n\u001b[0;32m--> 625\u001b[0;31m         \u001b[0mparts\u001b[0m \u001b[0;34m=\u001b[0m \u001b[0;34m[\u001b[0m\u001b[0mself\u001b[0m\u001b[0;34m.\u001b[0m\u001b[0mrecv\u001b[0m\u001b[0;34m(\u001b[0m\u001b[0mflags\u001b[0m\u001b[0;34m,\u001b[0m \u001b[0mcopy\u001b[0m\u001b[0;34m=\u001b[0m\u001b[0mcopy\u001b[0m\u001b[0;34m,\u001b[0m \u001b[0mtrack\u001b[0m\u001b[0;34m=\u001b[0m\u001b[0mtrack\u001b[0m\u001b[0;34m)\u001b[0m\u001b[0;34m]\u001b[0m\u001b[0;34m\u001b[0m\u001b[0;34m\u001b[0m\u001b[0m\n\u001b[0m\u001b[1;32m    626\u001b[0m         \u001b[0;31m# have first part already, only loop while more to receive\u001b[0m\u001b[0;34m\u001b[0m\u001b[0;34m\u001b[0m\u001b[0;34m\u001b[0m\u001b[0m\n",
            "\u001b[0;32mzmq/backend/cython/socket.pyx\u001b[0m in \u001b[0;36mzmq.backend.cython.socket.Socket.recv\u001b[0;34m()\u001b[0m\n",
            "\u001b[0;32mzmq/backend/cython/socket.pyx\u001b[0m in \u001b[0;36mzmq.backend.cython.socket.Socket.recv\u001b[0;34m()\u001b[0m\n",
            "\u001b[0;32mzmq/backend/cython/socket.pyx\u001b[0m in \u001b[0;36mzmq.backend.cython.socket._recv_copy\u001b[0;34m()\u001b[0m\n",
            "\u001b[0;32m/usr/local/lib/python3.7/dist-packages/zmq/backend/cython/checkrc.pxd\u001b[0m in \u001b[0;36mzmq.backend.cython.checkrc._check_rc\u001b[0;34m()\u001b[0m\n",
            "\u001b[0;31mKeyboardInterrupt\u001b[0m: ",
            "\nDuring handling of the above exception, another exception occurred:\n",
            "\u001b[0;31mKeyboardInterrupt\u001b[0m                         Traceback (most recent call last)",
            "\u001b[0;32m<ipython-input-28-6e9fa325fa14>\u001b[0m in \u001b[0;36m<module>\u001b[0;34m()\u001b[0m\n\u001b[1;32m     22\u001b[0m \u001b[0;34m\u001b[0m\u001b[0m\n\u001b[1;32m     23\u001b[0m \u001b[0mos\u001b[0m\u001b[0;34m.\u001b[0m\u001b[0msystem\u001b[0m\u001b[0;34m(\u001b[0m\u001b[0;34m\"pause\"\u001b[0m\u001b[0;34m)\u001b[0m\u001b[0;34m\u001b[0m\u001b[0;34m\u001b[0m\u001b[0m\n\u001b[0;32m---> 24\u001b[0;31m \u001b[0mgenran\u001b[0m\u001b[0;34m(\u001b[0m\u001b[0minp\u001b[0m\u001b[0;34m)\u001b[0m\u001b[0;34m\u001b[0m\u001b[0;34m\u001b[0m\u001b[0m\n\u001b[0m",
            "\u001b[0;32m<ipython-input-28-6e9fa325fa14>\u001b[0m in \u001b[0;36mgenran\u001b[0;34m(inp)\u001b[0m\n\u001b[1;32m     19\u001b[0m     \u001b[0mprint\u001b[0m\u001b[0;34m(\u001b[0m\u001b[0mstrSalida\u001b[0m\u001b[0;34m)\u001b[0m\u001b[0;34m\u001b[0m\u001b[0;34m\u001b[0m\u001b[0m\n\u001b[1;32m     20\u001b[0m     \u001b[0mlista\u001b[0m \u001b[0;34m=\u001b[0m\u001b[0;34m[\u001b[0m\u001b[0;34m]\u001b[0m\u001b[0;34m\u001b[0m\u001b[0;34m\u001b[0m\u001b[0m\n\u001b[0;32m---> 21\u001b[0;31m     \u001b[0minp\u001b[0m \u001b[0;34m=\u001b[0m \u001b[0minput\u001b[0m\u001b[0;34m(\u001b[0m\u001b[0;34m\"Presione enter para generar nuevo código...\"\u001b[0m\u001b[0;34m)\u001b[0m\u001b[0;34m\u001b[0m\u001b[0;34m\u001b[0m\u001b[0m\n\u001b[0m\u001b[1;32m     22\u001b[0m \u001b[0;34m\u001b[0m\u001b[0m\n\u001b[1;32m     23\u001b[0m \u001b[0mos\u001b[0m\u001b[0;34m.\u001b[0m\u001b[0msystem\u001b[0m\u001b[0;34m(\u001b[0m\u001b[0;34m\"pause\"\u001b[0m\u001b[0;34m)\u001b[0m\u001b[0;34m\u001b[0m\u001b[0;34m\u001b[0m\u001b[0m\n",
            "\u001b[0;32m/usr/local/lib/python3.7/dist-packages/ipykernel/kernelbase.py\u001b[0m in \u001b[0;36mraw_input\u001b[0;34m(self, prompt)\u001b[0m\n\u001b[1;32m    702\u001b[0m             \u001b[0mself\u001b[0m\u001b[0;34m.\u001b[0m\u001b[0m_parent_ident\u001b[0m\u001b[0;34m,\u001b[0m\u001b[0;34m\u001b[0m\u001b[0;34m\u001b[0m\u001b[0m\n\u001b[1;32m    703\u001b[0m             \u001b[0mself\u001b[0m\u001b[0;34m.\u001b[0m\u001b[0m_parent_header\u001b[0m\u001b[0;34m,\u001b[0m\u001b[0;34m\u001b[0m\u001b[0;34m\u001b[0m\u001b[0m\n\u001b[0;32m--> 704\u001b[0;31m             \u001b[0mpassword\u001b[0m\u001b[0;34m=\u001b[0m\u001b[0;32mFalse\u001b[0m\u001b[0;34m,\u001b[0m\u001b[0;34m\u001b[0m\u001b[0;34m\u001b[0m\u001b[0m\n\u001b[0m\u001b[1;32m    705\u001b[0m         )\n\u001b[1;32m    706\u001b[0m \u001b[0;34m\u001b[0m\u001b[0m\n",
            "\u001b[0;32m/usr/local/lib/python3.7/dist-packages/ipykernel/kernelbase.py\u001b[0m in \u001b[0;36m_input_request\u001b[0;34m(self, prompt, ident, parent, password)\u001b[0m\n\u001b[1;32m    732\u001b[0m             \u001b[0;32mexcept\u001b[0m \u001b[0mKeyboardInterrupt\u001b[0m\u001b[0;34m:\u001b[0m\u001b[0;34m\u001b[0m\u001b[0;34m\u001b[0m\u001b[0m\n\u001b[1;32m    733\u001b[0m                 \u001b[0;31m# re-raise KeyboardInterrupt, to truncate traceback\u001b[0m\u001b[0;34m\u001b[0m\u001b[0;34m\u001b[0m\u001b[0;34m\u001b[0m\u001b[0m\n\u001b[0;32m--> 734\u001b[0;31m                 \u001b[0;32mraise\u001b[0m \u001b[0mKeyboardInterrupt\u001b[0m\u001b[0;34m\u001b[0m\u001b[0;34m\u001b[0m\u001b[0m\n\u001b[0m\u001b[1;32m    735\u001b[0m             \u001b[0;32melse\u001b[0m\u001b[0;34m:\u001b[0m\u001b[0;34m\u001b[0m\u001b[0;34m\u001b[0m\u001b[0m\n\u001b[1;32m    736\u001b[0m                 \u001b[0;32mbreak\u001b[0m\u001b[0;34m\u001b[0m\u001b[0;34m\u001b[0m\u001b[0m\n",
            "\u001b[0;31mKeyboardInterrupt\u001b[0m: "
          ]
        }
      ],
      "source": [
        "inp = input(\"Presione enter para generar nuevo código...\")\n",
        "import random\n",
        "import os\n",
        "def genran(inp): \n",
        "  arrLetras = []\n",
        "  strLetras = 'ABCDEFGHIJKLMNOPQRSTUVWXYZ'\n",
        "  arrLetras.extend(strLetras)\n",
        "  lista = []\n",
        "   \n",
        "  while(inp.lower()!= \"exit\"):\n",
        "    strSalida = ''\n",
        "    for i in range(0, 7, 1):\n",
        "      alLetra = random.randint(0, len(arrLetras) - 1)\n",
        "      alNum = random.randint(0, 9)\n",
        "      strSalida = strSalida + arrLetras[alLetra] + str(alNum)\n",
        "      lista.append(alNum)\n",
        "    total = sum(lista)\n",
        "    print(total)\n",
        "    print(strSalida)\n",
        "    lista =[]\n",
        "    inp = input(\"Presione enter para generar nuevo código...\")\n",
        "\n",
        "os.system(\"pause\")\n",
        "genran(inp)"
      ]
    },
    {
      "cell_type": "code",
      "source": [
        "\n",
        "inp = input(\"Presione enter para generar nuevo código...\")\n",
        "import random\n",
        "import os\n",
        "\n",
        "def genran(inp): \n",
        "  arrLetras = []\n",
        "  strLetras = 'ABCDEFGHIJKLMNOPQRSTUVWXYZ'\n",
        "  arrLetras.extend(strLetras)\n",
        "  lista = []\n",
        "  lista2 = []\n",
        "  diccionario ={}\n",
        "   \n",
        "  while(inp.lower()!= \"exit\"):\n",
        "    strSalida = ''\n",
        "    for i in range(0, 7, 1):\n",
        "      alLetra = random.randint(0, len(arrLetras) - 1)\n",
        "      alNum = random.randint(0, 9)\n",
        "      strSalida = strSalida + arrLetras[alLetra] + str(alNum)\n",
        "      lista.append(alNum)\n",
        "    total = sum(lista)\n",
        "    #print(total)\n",
        "    if(total > 30):\n",
        "      diccionario[total] = strSalida   \n",
        "      #print(diccionario)  \n",
        "    else:\n",
        "      lista2.append(strSalida)\n",
        "      #print(lista2)\n",
        "    #print(strSalida)\n",
        "    lista =[]\n",
        "    inp = input(\"Presione enter para generar nuevo código...\")\n",
        " \n",
        "    #return diccionario\n",
        "    #return lista2\n",
        "  print(f\"Los códigos válidos son: {diccionario}\")\n",
        "  print(f\"Los códigos no válidos son: {lista2}\")\n",
        "\n",
        "os.system(\"pause\")\n",
        "genran(inp)"
      ],
      "metadata": {
        "colab": {
          "base_uri": "https://localhost:8080/"
        },
        "id": "95IBQY3hODzt",
        "outputId": "a30921a9-5aa3-4c23-9521-567c6460599e"
      },
      "execution_count": null,
      "outputs": [
        {
          "output_type": "stream",
          "name": "stdout",
          "text": [
            "Presione enter para generar nuevo código...\n",
            "Presione enter para generar nuevo código...\n",
            "Presione enter para generar nuevo código...\n",
            "Presione enter para generar nuevo código...\n",
            "Presione enter para generar nuevo código...exit\n",
            "Los códigos válidos son: {35: 'P6U7N1J9T3W1D8'}\n",
            "Los códigos no válidos son: ['X4R3F3C0I7D7O0', 'R9H2D0G5P0U0U5', 'Y4R1K0W8O3V6L3']\n"
          ]
        }
      ]
    },
    {
      "cell_type": "code",
      "source": [
        "genran(inp)"
      ],
      "metadata": {
        "colab": {
          "base_uri": "https://localhost:8080/"
        },
        "id": "Erh6QFzwkJFc",
        "outputId": "863d520f-0a7c-48aa-a04b-6f709c97f194"
      },
      "execution_count": null,
      "outputs": [
        {
          "output_type": "stream",
          "name": "stdout",
          "text": [
            "Presione enter para generar nuevo código...\n",
            "Presione enter para generar nuevo código...\n",
            "Presione enter para generar nuevo código...\n",
            "Presione enter para generar nuevo código...\n",
            "Presione enter para generar nuevo código...\n",
            "Presione enter para generar nuevo código...\n",
            "Presione enter para generar nuevo código...exit\n",
            "Los códigos válidos son: {36: 'L3Y9P5Q9X0Y1C9', 40: 'S2N9G6H7P4K7T5', 34: 'G5H3C5S5W6Z7V3', 31: 'P5K2N5U5I0J9U5'}\n",
            "Los códigos no válidos son: ['Z0A6M0J2I9D0C5', 'L7U9N1T4J8I0C1']\n"
          ]
        }
      ]
    },
    {
      "cell_type": "code",
      "source": [
        "inp = input(\"Presione enter para generar nuevo código...\")\n",
        "import random\n",
        "import os\n",
        "\n",
        "arrLetras = []\n",
        "strLetras = 'ABCDEFGHIJKLMNOPQRSTUVWXYZ'\n",
        "arrLetras.extend(strLetras)\n",
        "lista = []\n",
        "lista2 = []\n",
        "diccionario ={}\n",
        "  \n",
        "while(inp.lower()!= \"exit\"):\n",
        "  strSalida = ''\n",
        "  for i in range(0, 7, 1):\n",
        "    alLetra = random.randint(0, len(arrLetras) - 1)\n",
        "    alNum = random.randint(0, 9)\n",
        "    strSalida = strSalida + arrLetras[alLetra] + str(alNum)\n",
        "    lista.append(alNum)\n",
        "  total = sum(lista)\n",
        "  #print(total)\n",
        "  if(total > 30):\n",
        "    diccionario[total] = strSalida   \n",
        "    #print(diccionario)  \n",
        "  else:\n",
        "    lista2.append(strSalida)\n",
        "    #print(lista2)\n",
        "  #print(strSalida)\n",
        "  lista =[]\n",
        "  inp = input(\"Presione enter para generar nuevo código...\")\n",
        "\n",
        "print(f\"Los códigos válidos son: {diccionario}\")\n",
        "print(f\"Los códigos no válidos son: {lista2}\")\n",
        "\n",
        "os.system(\"pause\")"
      ],
      "metadata": {
        "colab": {
          "base_uri": "https://localhost:8080/"
        },
        "id": "RtyW5YRxODup",
        "outputId": "fe09b197-4ccf-43ce-9b7f-13fdf2f8eb95"
      },
      "execution_count": null,
      "outputs": [
        {
          "output_type": "stream",
          "name": "stdout",
          "text": [
            "Presione enter para generar nuevo código...\n",
            "Presione enter para generar nuevo código...\n",
            "Presione enter para generar nuevo código...\n",
            "Presione enter para generar nuevo código...\n",
            "Presione enter para generar nuevo código...\n",
            "Presione enter para generar nuevo código...\n",
            "Presione enter para generar nuevo código...\n",
            "Presione enter para generar nuevo código...\n",
            "Presione enter para generar nuevo código...\n",
            "Presione enter para generar nuevo código...exiT\n",
            "Los códigos válidos son: {37: 'P9I6W6W0X2E7J7', 36: 'I0E8M6K6O8A8A0', 33: 'H8B3A6G3Q2R4F7', 38: 'E2E9K5C5D5E8D4'}\n",
            "Los códigos no válidos son: ['G7Y3H1O3D0L9U7', 'D1L0E9Q9X0I1N7', 'H5J2H5I9N4P1O2', 'M1Z1T0U1M3N9H0']\n"
          ]
        },
        {
          "output_type": "execute_result",
          "data": {
            "text/plain": [
              "32512"
            ]
          },
          "metadata": {},
          "execution_count": 1
        }
      ]
    }
  ],
  "metadata": {
    "colab": {
      "collapsed_sections": [],
      "name": "ExamenP.ipynb",
      "provenance": [],
      "authorship_tag": "ABX9TyNNh/o35TPTiO7LxN1oXlCi"
    },
    "kernelspec": {
      "display_name": "Python 3",
      "name": "python3"
    },
    "language_info": {
      "name": "python"
    }
  },
  "nbformat": 4,
  "nbformat_minor": 0
}